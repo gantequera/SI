{
 "cells": [
  {
   "cell_type": "markdown",
   "metadata": {},
   "source": [
    "# Práctica \n",
    "\n",
    "En esta práctica se ha desarrollado el algoritmo A* con y sin ajuste de pesos para el problema planteado. \n",
    "    En este problema, el algoritmo debe ser capaz de indicar al cerdito el camino óptimo para alcanzar su destino."
   ]
  }
 ],
 "metadata": {
  "language_info": {
   "name": "python"
  },
  "orig_nbformat": 4
 },
 "nbformat": 4,
 "nbformat_minor": 2
}
