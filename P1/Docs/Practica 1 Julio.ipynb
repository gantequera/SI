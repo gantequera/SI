{
 "cells": [
  {
   "cell_type": "markdown",
   "metadata": {},
   "source": [
    "# Búsqueda heurística\n",
    "\n",
    "En esta práctica se ha desarrollado el algoritmo A* con y sin ajuste de pesos para el problema planteado. En este problema, el algoritmo debe ser capaz de indicar al cerdito el camino óptimo para alcanzar su destino."
   ]
  }
 ],
 "metadata": {
  "interpreter": {
   "hash": "f3090fe5a0e0a310d3ce7334e239d65520668bb5ac3f02cc019e38433da8b49c"
  },
  "kernelspec": {
   "display_name": "Python 3.8.8 64-bit ('anaconda')",
   "language": "python",
   "name": "python3"
  },
  "language_info": {
   "name": "python",
   "version": "3.8.8"
  },
  "orig_nbformat": 4
 },
 "nbformat": 4,
 "nbformat_minor": 2
}
