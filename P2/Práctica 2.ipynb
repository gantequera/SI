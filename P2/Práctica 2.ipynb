{
  "cells": [
    {
      "cell_type": "markdown",
      "metadata": {
        "id": "G1w-sVA-h82d"
      },
      "source": [
        "# Práctica 2: clasificación de dígitos MNIST mediante AdaBoost\n",
        "---"
      ]
    },
    {
      "cell_type": "markdown",
      "metadata": {
        "id": "d1hbMxmiiHWI"
      },
      "source": [
        "## Introducción\n",
        "\n",
        "En esta práctica se ha desarrollado un sistema para distinguir dígitos manuscritos del 0 al 9 en imagenes. El sistema implementado es de aprendizaje supervisado con AdaBoost. El objetivo de la práctica es entrenar al sistema, mediante un conjunto de imagenes de prueba, para clasificar imagenes en estas clases (dígitos del 0 al 9) aunque no hayan sido previamente analizadas por el sistema.\n",
        "\n",
        "<img src=\"https://drive.google.com/uc?export=view&id=1CI-5CzMDSAiKRN8bE3MAniHjkVL3fDWn\" width=500>\n",
        "\n",
        "El banco de imagenes utilizado para las pruebas es la base de datos MNIST "
      ]
    },
    {
      "cell_type": "markdown",
      "metadata": {
        "id": "12Jm82LuM4D8"
      },
      "source": [
        "Lo primero será importar las librerías necesarias"
      ]
    },
    {
      "cell_type": "code",
      "execution_count": 23,
      "metadata": {
        "id": "qPgdzozKxsJi"
      },
      "outputs": [],
      "source": [
        "import numpy as np\n",
        "import matplotlib.pyplot as plt\n",
        "from keras.datasets import mnist\n",
        "import random, math"
      ]
    },
    {
      "cell_type": "markdown",
      "metadata": {
        "id": "fabseaAOf3da"
      },
      "source": [
        "Desde la libería de Keras podemos descargar la base datos MNIST"
      ]
    },
    {
      "cell_type": "code",
      "execution_count": 25,
      "metadata": {
        "colab": {
          "base_uri": "https://localhost:8080/"
        },
        "id": "ObCTezA8gHOb",
        "outputId": "5f2aa8dd-09c9-482b-ae5b-81764a8b3b8b"
      },
      "outputs": [
        {
          "data": {
            "text/plain": [
              "((60000, 28, 28), (60000,))"
            ]
          },
          "execution_count": 25,
          "metadata": {},
          "output_type": "execute_result"
        }
      ],
      "source": [
        "(x_train, y_train), (x_test, y_test) = mnist.load_data()\n",
        "x_train.shape,y_train.shape"
      ]
    },
    {
      "cell_type": "markdown",
      "metadata": {
        "id": "QMWE3hpqgs3c"
      },
      "source": [
        "Podemos guardar la base de datos en un fichero con el siguiente comando"
      ]
    },
    {
      "cell_type": "code",
      "execution_count": 27,
      "metadata": {
        "id": "UwZhUZfpg2bd"
      },
      "outputs": [],
      "source": [
        "np.savez(\"mnist\",x=x_train,y=y_train)"
      ]
    },
    {
      "cell_type": "markdown",
      "metadata": {
        "id": "ZhvNEctdiV2W"
      },
      "source": [
        "La cargamos para utilizarla"
      ]
    },
    {
      "cell_type": "code",
      "execution_count": 32,
      "metadata": {
        "colab": {
          "base_uri": "https://localhost:8080/"
        },
        "id": "PAHczaleib5u",
        "outputId": "61f8643b-f7f2-4dd9-d87b-ab0f07267b55"
      },
      "outputs": [
        {
          "data": {
            "text/plain": [
              "(60000, 28, 28)"
            ]
          },
          "execution_count": 32,
          "metadata": {},
          "output_type": "execute_result"
        }
      ],
      "source": [
        "npzfile = np.load(\"mnist.npz\")\n",
        "mnist_X = npzfile['x']\n",
        "mnist_Y = npzfile['y']\n",
        "mnist_X.shape"
      ]
    },
    {
      "cell_type": "markdown",
      "metadata": {
        "id": "sTGcqWYwgSoJ"
      },
      "source": [
        "Veamos alguna de las imagenes del banco de datos"
      ]
    },
    {
      "cell_type": "code",
      "execution_count": 24,
      "metadata": {
        "colab": {
          "base_uri": "https://localhost:8080/",
          "height": 282
        },
        "id": "YmnDV3RigY6T",
        "outputId": "e5822736-f5ba-480a-f578-54ea81a5f8a1"
      },
      "outputs": [
        {
          "data": {
            "image/png": "[encoded data removed]",
            "text/plain": [
              "<Figure size 432x288 with 1 Axes>"
            ]
          },
          "metadata": {
            "needs_background": "light"
          },
          "output_type": "display_data"
        },
        {
          "name": "stdout",
          "output_type": "stream",
          "text": [
            "Etiqueta: 3\n"
          ]
        }
      ],
      "source": [
        "plt.figure()\n",
        "plt.imshow(mnist_X[1007])\n",
        "plt.show()\n",
        "print(\"Etiqueta: \" + str(mnist_Y[1007]))"
      ]
    },
    {
      "cell_type": "markdown",
      "metadata": {
        "id": "ANntXnhohkHd"
      },
      "source": [
        "### Implementación AdaBoost"
      ]
    },
    {
      "cell_type": "markdown",
      "metadata": {
        "id": "-Yt22wELipJT"
      },
      "source": [
        "Adaptación de los arrays de imágenes y etiquetas para AdaBoost en función de la clase para la que se va a entrenar"
      ]
    },
    {
      "cell_type": "code",
      "execution_count": 41,
      "metadata": {
        "colab": {
          "base_uri": "https://localhost:8080/"
        },
        "id": "rNnU_E8dinOz",
        "outputId": "1c8485d0-925c-4c44-aded-eb48e8e7cbd4"
      },
      "outputs": [],
      "source": [
        "N_entr = 20000\n",
        "N_test = 30000\n",
        "\n",
        "def adaptar_conjuntos(mnist_X, mnist_Y, clase):\n",
        "    X = mnist_X[:N_entr].reshape(N_entr, 784)\n",
        "\n",
        "    Y = []\n",
        "    for i in range(len(mnist_Y[:N_entr])):\n",
        "        if mnist_Y[i] == clase:\n",
        "            Y.append(1)\n",
        "        else:\n",
        "            Y.append(-1)\n",
        "    \n",
        "    return (X, Y)\n",
        "\n",
        "\n",
        "def adaptar_conjuntos_test(mnist_X, mnist_Y):\n",
        "    X = mnist_X.copy()\n",
        "    X = np.reshape(X[N_entr:N_test], (N_test-N_entr, 784))\n",
        "\n",
        "    return (X, mnist_Y)"
      ]
    },
    {
      "cell_type": "markdown",
      "metadata": {
        "id": "TY5RX87hizst"
      },
      "source": [
        "Funciones necesarias para los clasificadores débiles"
      ]
    },
    {
      "cell_type": "code",
      "execution_count": 2,
      "metadata": {
        "id": "JPzp9OSAi8rj"
      },
      "outputs": [],
      "source": [
        "def generar_clasificador_debil(dimension_datos):\n",
        "    return (random.randint(0, dimension_datos-1), random.randint(0, 255), random.choice((-1, 1)))"
      ]
    },
    {
      "cell_type": "code",
      "execution_count": 18,
      "metadata": {
        "id": "OZccF64ljbUr"
      },
      "outputs": [],
      "source": [
        "def aplicar_clasificador_debil(clasificador, imagen):\n",
        "    v = imagen[:,clasificador[0]]\n",
        "    return ((v >= clasificador[1]) * 1 + (v < clasificador[1]) * -1) * clasificador[2]"
      ]
    },
    {
      "cell_type": "code",
      "execution_count": 19,
      "metadata": {
        "id": "M50DGeNhjgDk"
      },
      "outputs": [],
      "source": [
        "def obtener_error(clasificador, X, Y, D):\n",
        "    return D * (aplicar_clasificador_debil(clasificador, X) != Y)"
      ]
    },
    {
      "cell_type": "markdown",
      "metadata": {
        "id": "cotcuFUsjtve"
      },
      "source": [
        "Función de entrenamiento adaboost que nos permite obtener un conjunto de clasificadores fuertes y sus respectivos valores $\\alpha$."
      ]
    },
    {
      "cell_type": "code",
      "execution_count": 34,
      "metadata": {
        "id": "paE5m0hhjwyX"
      },
      "outputs": [],
      "source": [
        "def adaboost(X, Y, T, A):\n",
        "    clasificadores_debiles = []\n",
        "    alphas = []\n",
        "\n",
        "    D = np.full(len(X), 1.0 / len(X))\n",
        "\n",
        "    for t in range(T):\n",
        "        conjuntos = []\n",
        "        for k in range(A):\n",
        "            c_d = generar_clasificador_debil(3)            # Obtenemos un clasificador debil\n",
        "            clas = aplicar_clasificador_debil(c_d, X)      # Guardamos las clasificaciones de las imagenes\n",
        "            eps = np.sum(obtener_error(c_d, X, Y, D))      # Calculamos el error \n",
        "            conjuntos.append((c_d, eps, clas))             # Almacenamos el conjunto con el formato (clasificador, error, resultados)\n",
        "        pri = True\n",
        "        for elem in conjuntos:\n",
        "            if pri:\n",
        "                fc = elem\n",
        "                pri = False\n",
        "                continue\n",
        "            if elem[1] < fc[1]:           # Guardamos el conjunto con menor error\n",
        "                fc = elem  \n",
        "        alph = 0.5*math.log2((1-fc[1])/fc[1])   # Cálculo de alpha\n",
        "        alphas.append(alph)\n",
        "        clasificadores_debiles.append(fc[0])\n",
        "\n",
        "        Z = np.sum(D)           #Actualizamos D\n",
        "        for i in range(len(D)):\n",
        "            D[i] = (D[i] * (math.e ** (-alph * Y[i] * fc[2][i])))/Z\n",
        "        \n",
        "    return (clasificadores_debiles, alphas)"
      ]
    },
    {
      "cell_type": "markdown",
      "metadata": {},
      "source": [
        "Función para aplicar nuestro clasificador fuerte una vez se ha entrenado. Esta función nos permite obtener, para una imagen, el valor que tiene en una clase, según los clasificadores debiles de esta clase ponderados por su $\\alpha$. "
      ]
    },
    {
      "cell_type": "code",
      "execution_count": 35,
      "metadata": {},
      "outputs": [],
      "source": [
        "def aplicar_clasificador_fuerte(clasificadores, alphas, imagen):\n",
        "    clasificacion = 0\n",
        "    for i in range(len(clasificadores)):\n",
        "        clasificacion += alphas[i] * aplicar_clasificador_debil(clasificadores[i], np.array([imagen]))\n",
        "\n",
        "    return clasificacion"
      ]
    },
    {
      "cell_type": "markdown",
      "metadata": {},
      "source": [
        "Además se ha implementado una función que entrena el sistema para las 10 clases haciendo uso de la función adaboost"
      ]
    },
    {
      "cell_type": "code",
      "execution_count": 38,
      "metadata": {},
      "outputs": [],
      "source": [
        "def entrenar_sistema(mnist_X, mnist_Y, T, A):\n",
        "    clasificadores = []\n",
        "    alphas = []\n",
        "    print(\"Proceso de entrenamiento\")\n",
        "    for clase in range(10):\n",
        "        print(f\"Clasificador de la clase \\\"{clase}\\\" en proceso de entrenamiento\")\n",
        "        (trainX, trainY) = adaptar_conjuntos(mnist_X, mnist_Y, clase)\n",
        "        (cl, al) = adaboost(trainX, trainY, T, A)\n",
        "        clasificadores.append(cl)\n",
        "        alphas.append(al)\n",
        "    return (clasificadores, alphas)"
      ]
    },
    {
      "cell_type": "markdown",
      "metadata": {},
      "source": [
        "Se ha implementado la siguiente función que permite probar para un set de imagenes, el índice de acierto que tiene el sistema para una clase."
      ]
    },
    {
      "cell_type": "code",
      "execution_count": 48,
      "metadata": {},
      "outputs": [],
      "source": [
        "def testn(X, Y, clasificadores, alphas, n):\n",
        "    correct = total = 0\n",
        "\n",
        "    for i in range(len(X)):\n",
        "        if (Y[i] != n):\n",
        "            continue\n",
        "        total += 1\n",
        "        clasif = (-1, 0)\n",
        "        for j in range(10):\n",
        "            punt = (aplicar_clasificador_fuerte(clasificadores[j], alphas[j], X[i]))\n",
        "            if punt > clasif[1]:\n",
        "                clasif = (j, punt)\n",
        "        if n == clasif[0]: \n",
        "            correct += 1\n",
        "\n",
        "    return correct/total"
      ]
    },
    {
      "cell_type": "markdown",
      "metadata": {},
      "source": [
        "Vamos a realizar una prueba para la clase \"0\""
      ]
    },
    {
      "cell_type": "code",
      "execution_count": 49,
      "metadata": {},
      "outputs": [
        {
          "name": "stdout",
          "output_type": "stream",
          "text": [
            "Proceso de entrenamiento\n",
            "Clasificador de la clase \"0\" en proceso de entrenamiento\n",
            "Clasificador de la clase \"1\" en proceso de entrenamiento\n",
            "Clasificador de la clase \"2\" en proceso de entrenamiento\n",
            "Clasificador de la clase \"3\" en proceso de entrenamiento\n",
            "Clasificador de la clase \"4\" en proceso de entrenamiento\n",
            "Clasificador de la clase \"5\" en proceso de entrenamiento\n",
            "Clasificador de la clase \"6\" en proceso de entrenamiento\n",
            "Clasificador de la clase \"7\" en proceso de entrenamiento\n",
            "Clasificador de la clase \"8\" en proceso de entrenamiento\n",
            "Clasificador de la clase \"9\" en proceso de entrenamiento\n",
            "Índice de aciertos del sistema para clase 0: 0.0\n"
          ]
        }
      ],
      "source": [
        "T = 10\n",
        "A = 20\n",
        "(clasificadores, alphas) = entrenar_sistema(mnist_X, mnist_Y, T, A)\n",
        "(testX, testY) = adaptar_conjuntos_test(mnist_X, mnist_Y)\n",
        "print(f\"Índice de aciertos del sistema para clase 0: {testn(testX, testY, clasificadores, alphas, 8)}\")"
      ]
    },
    {
      "cell_type": "markdown",
      "metadata": {
        "id": "sHyBl9IXOSQL"
      },
      "source": [
        "Para realizar un análisis que ayude a determinar los valores adecuados para T y A se ha utilizado la siguiente función"
      ]
    },
    {
      "cell_type": "code",
      "execution_count": null,
      "metadata": {},
      "outputs": [],
      "source": []
    },
    {
      "cell_type": "code",
      "execution_count": null,
      "metadata": {
        "id": "XktISiVjo7J1"
      },
      "outputs": [],
      "source": [
        "(imagenes_X, etiquetas_Y) = adaptar_conjuntos_t(mnist_X, mnist_Y, 2)"
      ]
    },
    {
      "cell_type": "markdown",
      "metadata": {
        "id": "Xox0oiq8pI5G"
      },
      "source": [
        "# Cuestiones sobre la práctica"
      ]
    },
    {
      "cell_type": "markdown",
      "metadata": {},
      "source": [
        "## Explica brevemente cómo has adaptado la base datos MNIST al algoritmo AdaBoost"
      ]
    },
    {
      "cell_type": "markdown",
      "metadata": {
        "id": "YqBNtxycrYz-"
      },
      "source": [
        "## Comenta detalladamente el funcionamiento de AdaBoost teniendo en cuenta que tasa media de fallos obtienes para aprendizaje y test. Correlaciona los porcentajes de acierto y de fallo con los valores de A y de T."
      ]
    },
    {
      "cell_type": "markdown",
      "metadata": {
        "id": "78BStUb3sdQF"
      },
      "source": [
        "## ¿Cómo afecta el número de clasificadores generados al tiempo empleado para el proceso de aprendizaje? ¿Qué importancia le darías? Justifica tu respuesta. "
      ]
    },
    {
      "cell_type": "markdown",
      "metadata": {
        "id": "t7byGnWju4DA"
      },
      "source": [
        "## ¿Cómo has dividido los datos en conjunto de entrenamiento y test? ¿Para qué es útil hacer esta división? "
      ]
    },
    {
      "cell_type": "markdown",
      "metadata": {
        "id": "-lgvdtFkvcCm"
      },
      "source": [
        "## ¿Has observado si se produce sobre entrenamiento? Justifica tu respuesta con una gráfica en la que se compare el error de entrenamiento y el de test a lo largo de las ejecuciones. "
      ]
    },
    {
      "cell_type": "markdown",
      "metadata": {
        "id": "d3z6ssR5wMXO"
      },
      "source": [
        "## ¿Cómo has conseguido que Adaboost clasifique entre los 10 dígitos cuando solo tiene una salida binaria?"
      ]
    },
    {
      "cell_type": "markdown",
      "metadata": {},
      "source": [
        "## ¿Varía T y A entre ambos clasificadores débiles al usarlos en Adaboost? ¿Cuál requiere un T más elevado? ¿Porqué?"
      ]
    },
    {
      "cell_type": "markdown",
      "metadata": {},
      "source": [
        "## ¿Qué clasificador débil crees que funciona mejor para clasificar un dígito? ¿Y el problema completo con 10 dígitos?"
      ]
    }
  ],
  "metadata": {
    "colab": {
      "collapsed_sections": [],
      "name": "Curso2021P2-Alumnos.ipynb",
      "provenance": [],
      "toc_visible": true
    },
    "interpreter": {
      "hash": "4caea23604fddfff4af07b124ceffffee3f6d283b9045457928205b8f8752d07"
    },
    "kernelspec": {
      "display_name": "Python 3.8.8 ('base')",
      "language": "python",
      "name": "python3"
    },
    "language_info": {
      "codemirror_mode": {
        "name": "ipython",
        "version": 3
      },
      "file_extension": ".py",
      "mimetype": "text/x-python",
      "name": "python",
      "nbconvert_exporter": "python",
      "pygments_lexer": "ipython3",
      "version": "3.8.8"
    }
  },
  "nbformat": 4,
  "nbformat_minor": 0
}
